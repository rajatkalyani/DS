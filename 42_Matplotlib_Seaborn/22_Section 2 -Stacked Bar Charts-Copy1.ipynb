{
 "cells": [
  {
   "cell_type": "markdown",
   "metadata": {},
   "source": [
    "# Stacked Bar Charts"
   ]
  },
  {
   "cell_type": "markdown",
   "metadata": {},
   "source": [
    "Hi and again welcome to the class. Today we will make stacked bar charts with and without pandas."
   ]
  },
  {
   "cell_type": "code",
   "execution_count": 1,
   "metadata": {},
   "outputs": [],
   "source": [
    "# import required packages\n",
    "import pandas as pd\n",
    "\n",
    "import matplotlib.pyplot as plt\n",
    "%matplotlib inline"
   ]
  },
  {
   "cell_type": "markdown",
   "metadata": {},
   "source": [
    "I am sure you can guess what dataset we will use in this class."
   ]
  },
  {
   "cell_type": "code",
   "execution_count": 2,
   "metadata": {},
   "outputs": [
    {
     "data": {
      "text/html": [
       "<div>\n",
       "<style scoped>\n",
       "    .dataframe tbody tr th:only-of-type {\n",
       "        vertical-align: middle;\n",
       "    }\n",
       "\n",
       "    .dataframe tbody tr th {\n",
       "        vertical-align: top;\n",
       "    }\n",
       "\n",
       "    .dataframe thead th {\n",
       "        text-align: right;\n",
       "    }\n",
       "</style>\n",
       "<table border=\"1\" class=\"dataframe\">\n",
       "  <thead>\n",
       "    <tr style=\"text-align: right;\">\n",
       "      <th></th>\n",
       "      <th>Children's</th>\n",
       "      <th>Classical</th>\n",
       "      <th>Country</th>\n",
       "      <th>Jazz</th>\n",
       "      <th>New Age</th>\n",
       "      <th>Oldies</th>\n",
       "      <th>Other</th>\n",
       "      <th>Pop</th>\n",
       "      <th>R&amp;B and Urban</th>\n",
       "      <th>Rap and Hip-Hop</th>\n",
       "      <th>Religious</th>\n",
       "      <th>Rock</th>\n",
       "      <th>Soundtracks</th>\n",
       "    </tr>\n",
       "    <tr>\n",
       "      <th>Year</th>\n",
       "      <th></th>\n",
       "      <th></th>\n",
       "      <th></th>\n",
       "      <th></th>\n",
       "      <th></th>\n",
       "      <th></th>\n",
       "      <th></th>\n",
       "      <th></th>\n",
       "      <th></th>\n",
       "      <th></th>\n",
       "      <th></th>\n",
       "      <th></th>\n",
       "      <th></th>\n",
       "    </tr>\n",
       "  </thead>\n",
       "  <tbody>\n",
       "    <tr>\n",
       "      <th>1989</th>\n",
       "      <td>0.3</td>\n",
       "      <td>3.6</td>\n",
       "      <td>7.3</td>\n",
       "      <td>4.9</td>\n",
       "      <td>1.4</td>\n",
       "      <td>0.9</td>\n",
       "      <td>4.0</td>\n",
       "      <td>15.0</td>\n",
       "      <td>9.5</td>\n",
       "      <td>6.4</td>\n",
       "      <td>3.1</td>\n",
       "      <td>41.7</td>\n",
       "      <td>0.7</td>\n",
       "    </tr>\n",
       "    <tr>\n",
       "      <th>1990</th>\n",
       "      <td>0.5</td>\n",
       "      <td>3.1</td>\n",
       "      <td>9.6</td>\n",
       "      <td>4.8</td>\n",
       "      <td>1.1</td>\n",
       "      <td>0.8</td>\n",
       "      <td>5.6</td>\n",
       "      <td>15.0</td>\n",
       "      <td>11.6</td>\n",
       "      <td>8.5</td>\n",
       "      <td>2.5</td>\n",
       "      <td>36.1</td>\n",
       "      <td>0.8</td>\n",
       "    </tr>\n",
       "    <tr>\n",
       "      <th>1991</th>\n",
       "      <td>0.3</td>\n",
       "      <td>3.2</td>\n",
       "      <td>12.8</td>\n",
       "      <td>4.0</td>\n",
       "      <td>1.3</td>\n",
       "      <td>1.0</td>\n",
       "      <td>4.2</td>\n",
       "      <td>13.7</td>\n",
       "      <td>9.9</td>\n",
       "      <td>10.0</td>\n",
       "      <td>3.8</td>\n",
       "      <td>34.8</td>\n",
       "      <td>0.7</td>\n",
       "    </tr>\n",
       "    <tr>\n",
       "      <th>1992</th>\n",
       "      <td>0.5</td>\n",
       "      <td>3.7</td>\n",
       "      <td>17.4</td>\n",
       "      <td>3.8</td>\n",
       "      <td>1.2</td>\n",
       "      <td>0.8</td>\n",
       "      <td>5.4</td>\n",
       "      <td>12.1</td>\n",
       "      <td>9.8</td>\n",
       "      <td>8.6</td>\n",
       "      <td>2.8</td>\n",
       "      <td>31.6</td>\n",
       "      <td>0.7</td>\n",
       "    </tr>\n",
       "    <tr>\n",
       "      <th>1993</th>\n",
       "      <td>0.4</td>\n",
       "      <td>3.3</td>\n",
       "      <td>18.7</td>\n",
       "      <td>3.1</td>\n",
       "      <td>1.0</td>\n",
       "      <td>1.0</td>\n",
       "      <td>4.6</td>\n",
       "      <td>11.5</td>\n",
       "      <td>10.6</td>\n",
       "      <td>9.2</td>\n",
       "      <td>3.2</td>\n",
       "      <td>30.2</td>\n",
       "      <td>0.7</td>\n",
       "    </tr>\n",
       "  </tbody>\n",
       "</table>\n",
       "</div>"
      ],
      "text/plain": [
       "      Children's  Classical  Country  Jazz  New Age  Oldies  Other   Pop  \\\n",
       "Year                                                                       \n",
       "1989         0.3        3.6      7.3   4.9      1.4     0.9    4.0  15.0   \n",
       "1990         0.5        3.1      9.6   4.8      1.1     0.8    5.6  15.0   \n",
       "1991         0.3        3.2     12.8   4.0      1.3     1.0    4.2  13.7   \n",
       "1992         0.5        3.7     17.4   3.8      1.2     0.8    5.4  12.1   \n",
       "1993         0.4        3.3     18.7   3.1      1.0     1.0    4.6  11.5   \n",
       "\n",
       "      R&B and Urban  Rap and Hip-Hop  Religious  Rock  Soundtracks  \n",
       "Year                                                                \n",
       "1989            9.5              6.4        3.1  41.7          0.7  \n",
       "1990           11.6              8.5        2.5  36.1          0.8  \n",
       "1991            9.9             10.0        3.8  34.8          0.7  \n",
       "1992            9.8              8.6        2.8  31.6          0.7  \n",
       "1993           10.6              9.2        3.2  30.2          0.7  "
      ]
     },
     "execution_count": 2,
     "metadata": {},
     "output_type": "execute_result"
    }
   ],
   "source": [
    "# Here is our hero\n",
    "df = pd.read_csv('Data/barcharts-us-music-sales-by-genre.csv', index_col='Year')\n",
    "\n",
    "# quick glance\n",
    "df.head()"
   ]
  },
  {
   "cell_type": "markdown",
   "metadata": {},
   "source": [
    "In this dataframe, we will take Country, jazz, and Rock and plot stacked bar charts. \n",
    "And as I mentioned, we will make stacked bar charts with and without Pandas. So, let's do it without Pandas first."
   ]
  },
  {
   "cell_type": "code",
   "execution_count": 3,
   "metadata": {},
   "outputs": [
    {
     "data": {
      "text/plain": [
       "<matplotlib.legend.Legend at 0x1e64d734e48>"
      ]
     },
     "execution_count": 3,
     "metadata": {},
     "output_type": "execute_result"
    },
    {
     "data": {
      "image/png": "[encoded data removed]",
      "text/plain": [
       "<matplotlib.figure.Figure at 0x1e64d58e7f0>"
      ]
     },
     "metadata": {},
     "output_type": "display_data"
    }
   ],
   "source": [
    "# Instantiate figure and axes\n",
    "fig, ax = plt.subplots(figsize=(15,5))\n",
    "\n",
    "\n",
    "# The top most bar could be, say, Jazz\n",
    "ax.bar(df.index, df['Jazz'], bottom=df['Rock']+df['Country'], label='Jazz')\n",
    "# and it sits on Rock and Country Y values\n",
    "# You define it by setting bottom value\n",
    "\n",
    "# One below, could be Rock, and it sits on Country only\n",
    "ax.bar(df.index, df['Rock'], bottom=df['Country'], label='Rock')\n",
    "\n",
    "# and the last bars belong to Country and it sits on nothing\n",
    "ax.bar(df.index, df['Country'], label='Country')\n",
    "\n",
    "# Let's show all the index values as they are seen in the dataframe\n",
    "ax.set_xticks(df.index)\n",
    "\n",
    "\n",
    "ax.legend()"
   ]
  },
  {
   "cell_type": "markdown",
   "metadata": {},
   "source": [
    "If you think it is a little more involved to make stacked bar charts with axes methods, you can actually use Pandas and it makes it a lot simpler. Let's try that."
   ]
  },
  {
   "cell_type": "code",
   "execution_count": 8,
   "metadata": {},
   "outputs": [
    {
     "data": {
      "image/png": "[encoded data removed]",
      "text/plain": [
       "<matplotlib.figure.Figure at 0x1e64dde8780>"
      ]
     },
     "metadata": {},
     "output_type": "display_data"
    }
   ],
   "source": [
    "# We will start defining columns from bottom \n",
    "# to top\n",
    "ax = df[['Country','Rock','Jazz']].plot.bar(stacked=True, rot=0)\n",
    "fig = plt.gcf()\n",
    "\n",
    "fig.set_size_inches(15,5)"
   ]
  },
  {
   "cell_type": "markdown",
   "metadata": {},
   "source": [
    "As you see, when plotting straight from Pandas, you don't have to define bottom values, hence less error prone process. \n",
    "Alright. All is good. But don't assume this class is over.\n",
    "\n",
    "What I want you to do, is to change the legend handles and labels with Line2D. As for markers, it is completely up to you. I just want to make sure, you still remember how to customize legends. If not, then please watch the class on Legends in Matplotlib Anatomy section.\n",
    "\n",
    "If you have any questions, do let me know and bye for now."
   ]
  }
 ],
 "metadata": {
  "kernelspec": {
   "display_name": "Python 3",
   "language": "python",
   "name": "python3"
  },
  "language_info": {
   "codemirror_mode": {
    "name": "ipython",
    "version": 3
   },
   "file_extension": ".py",
   "mimetype": "text/x-python",
   "name": "python",
   "nbconvert_exporter": "python",
   "pygments_lexer": "ipython3",
   "version": "3.6.3"
  }
 },
 "nbformat": 4,
 "nbformat_minor": 2
}
