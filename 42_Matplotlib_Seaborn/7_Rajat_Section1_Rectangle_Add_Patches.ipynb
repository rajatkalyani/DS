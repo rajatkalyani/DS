{
 "cells": [
  {
   "cell_type": "code",
   "execution_count": 1,
   "metadata": {},
   "outputs": [],
   "source": [
    "import os\n",
    "os.chdir(\"/Users/rajatpa/Documents/DS/42_Matplotlib_Seaborn\")"
   ]
  },
  {
   "cell_type": "code",
   "execution_count": 2,
   "metadata": {},
   "outputs": [
    {
     "data": {
      "text/html": [
       "<style type=\"text/css\">\n",
       "    table.dataframe td, table.dataframe th {\n",
       "        border-style: solid;\n",
       "    }\n",
       "</style>\n"
      ],
      "text/plain": [
       "<IPython.core.display.HTML object>"
      ]
     },
     "metadata": {},
     "output_type": "display_data"
    }
   ],
   "source": [
    "%%HTML\n",
    "<style type=\"text/css\">\n",
    "    table.dataframe td, table.dataframe th {\n",
    "        border-style: solid;\n",
    "    }\n",
    "</style>"
   ]
  },
  {
   "cell_type": "code",
   "execution_count": 4,
   "metadata": {},
   "outputs": [],
   "source": [
    "import numpy as np\n",
    "import matplotlib.pyplot as plt\n",
    "from matplotlib.lines import Line2D\n",
    "from matplotlib.patches import Rectangle\n",
    "import pandas as pd\n",
    "import seaborn as sns\n",
    "from mpl_toolkits.mplot3d import Axes3D\n",
    "%matplotlib inline"
   ]
  },
  {
   "cell_type": "code",
   "execution_count": 5,
   "metadata": {},
   "outputs": [
    {
     "data": {
      "text/plain": [
       "<matplotlib.patches.Rectangle at 0x1a239f88d0>"
      ]
     },
     "execution_count": 5,
     "metadata": {},
     "output_type": "execute_result"
    },
    {
     "data": {
      "image/png": "[encoded data removed]",
      "text/plain": [
       "<Figure size 432x288 with 1 Axes>"
      ]
     },
     "metadata": {
      "needs_background": "light"
     },
     "output_type": "display_data"
    }
   ],
   "source": [
    "# Let's add 2 Rectangle Artists to axes\n",
    "# We will instantiate the Rectangle patch as below\n",
    "# first tupe represents xy coordinates\n",
    "# the other two numbres are simply width \n",
    "# and hight parameters\n",
    "rec1 = Rectangle((0.5, 0), 0.2, 0.8)\n",
    "# let's make another rectangle\n",
    "rec2 = Rectangle((0.2, 0), 0.2, 0.6)\n",
    "# Instantate figure and axes\n",
    "fig, ax = plt.subplots()\n",
    "'''\n",
    "Add rectangle to the artist with the help\n",
    "of add_patch method\n",
    "'''\n",
    "ax.add_patch(rec1)\n",
    "ax.add_patch(rec2)\n"
   ]
  },
  {
   "cell_type": "code",
   "execution_count": 6,
   "metadata": {},
   "outputs": [
    {
     "data": {
      "text/plain": [
       "[<matplotlib.patches.Rectangle at 0x1a239f8898>,\n",
       " <matplotlib.patches.Rectangle at 0x1a239f88d0>]"
      ]
     },
     "execution_count": 6,
     "metadata": {},
     "output_type": "execute_result"
    }
   ],
   "source": [
    "'''\n",
    "Now let's see if we can refer to all or one of the patches on this chart\n",
    "To do that, we need to call the container that holds reference to Rectangle artists\n",
    "\n",
    "'''\n",
    "ax.patches"
   ]
  },
  {
   "cell_type": "code",
   "execution_count": 7,
   "metadata": {},
   "outputs": [
    {
     "data": {
      "image/png": "[encoded data removed]",
      "text/plain": [
       "<Figure size 432x288 with 1 Axes>"
      ]
     },
     "execution_count": 7,
     "metadata": {},
     "output_type": "execute_result"
    }
   ],
   "source": [
    "# As you can see, the container returns two objects, which are basically \n",
    "# two rectangle artists that we added to the axes.\n",
    "# Now we can easily address any of them. So, let's do it\n",
    "'''\n",
    "We will get a little ahead of us and add a color to\n",
    ", say the first patch\n",
    "'''\n",
    "ax.patches[0].set_facecolor('red')\n",
    "fig"
   ]
  },
  {
   "cell_type": "code",
   "execution_count": 8,
   "metadata": {},
   "outputs": [
    {
     "data": {
      "text/plain": [
       "<BarContainer object of 5 artists>"
      ]
     },
     "execution_count": 8,
     "metadata": {},
     "output_type": "execute_result"
    },
    {
     "data": {
      "image/png": "[encoded data removed]",
      "text/plain": [
       "<Figure size 432x288 with 1 Axes>"
      ]
     },
     "metadata": {
      "needs_background": "light"
     },
     "output_type": "display_data"
    }
   ],
   "source": [
    "#But usually, when we plot we take advantage of much shorter ways. \n",
    "# Let's quickly take a look without much going into details.\n",
    "fig1, ax1 = plt.subplots()\n",
    "x = list(range(5))\n",
    "y = np.random.randn(5)\n",
    "ax1.bar(x, y)"
   ]
  },
  {
   "cell_type": "code",
   "execution_count": 9,
   "metadata": {},
   "outputs": [
    {
     "data": {
      "text/plain": [
       "'\\nWith this method, we skipped the following process:\\nWe did not instantiate Rectangle Artists manually\\nWe did not wrap the patches in BarContainer\\nAnd finally, we did not manually add the BarContainer or the list of patches to the axes\\nWe simply called .bar method.\\n\\n'"
      ]
     },
     "execution_count": 9,
     "metadata": {},
     "output_type": "execute_result"
    }
   ],
   "source": [
    "'''\n",
    "With this method, we skipped the following process:\n",
    "We did not instantiate Rectangle Artists manually\n",
    "We did not wrap the patches in BarContainer\n",
    "And finally, we did not manually add the BarContainer or the list of patches to the axes\n",
    "We simply called .bar method.\n",
    "\n",
    "'''"
   ]
  },
  {
   "cell_type": "code",
   "execution_count": null,
   "metadata": {},
   "outputs": [],
   "source": []
  }
 ],
 "metadata": {
  "kernelspec": {
   "display_name": "Python 3",
   "language": "python",
   "name": "python3"
  },
  "language_info": {
   "codemirror_mode": {
    "name": "ipython",
    "version": 3
   },
   "file_extension": ".py",
   "mimetype": "text/x-python",
   "name": "python",
   "nbconvert_exporter": "python",
   "pygments_lexer": "ipython3",
   "version": "3.6.8"
  }
 },
 "nbformat": 4,
 "nbformat_minor": 2
}
